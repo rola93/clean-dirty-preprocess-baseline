{
 "cells": [
  {
   "cell_type": "code",
   "execution_count": 11,
   "metadata": {
    "_cell_guid": "79c7e3d0-c299-4dcb-8224-4455121ee9b0",
    "_uuid": "d629ff2d2480ee46fbb7e2d37f6b5fab8052498a",
    "execution": {
     "iopub.execute_input": "2021-06-10T02:49:57.325937Z",
     "iopub.status.busy": "2021-06-10T02:49:57.32567Z",
     "iopub.status.idle": "2021-06-10T02:50:02.403526Z",
     "shell.execute_reply": "2021-06-10T02:50:02.402754Z",
     "shell.execute_reply.started": "2021-06-10T02:49:57.32591Z"
    }
   },
   "outputs": [],
   "source": [
    "import os\n",
    "import numpy as np\n",
    "import pandas as pd\n",
    "import tensorflow as tf\n",
    "from tensorflow.keras.applications import MobileNetV2\n",
    "from tensorflow.keras.applications.mobilenet_v2 import preprocess_input\n",
    "\n",
    "train_path = '../data/clean-dirty-garbage-containers/train'\n",
    "eval_path = '../data/clean-dirty-garbage-containers/test'"
   ]
  },
  {
   "cell_type": "code",
   "execution_count": 12,
   "metadata": {},
   "outputs": [
    {
     "data": {
      "text/plain": [
       "True"
      ]
     },
     "execution_count": 12,
     "metadata": {},
     "output_type": "execute_result"
    }
   ],
   "source": [
    "os.path.isdir(train_path)"
   ]
  },
  {
   "cell_type": "code",
   "execution_count": 13,
   "metadata": {
    "execution": {
     "iopub.execute_input": "2021-06-10T02:50:02.417535Z",
     "iopub.status.busy": "2021-06-10T02:50:02.417175Z",
     "iopub.status.idle": "2021-06-10T02:50:02.63853Z",
     "shell.execute_reply": "2021-06-10T02:50:02.637128Z",
     "shell.execute_reply.started": "2021-06-10T02:50:02.417499Z"
    }
   },
   "outputs": [
    {
     "name": "stdout",
     "output_type": "stream",
     "text": [
      "Found 2217 images belonging to 2 classes.\n",
      "Found 1195 images belonging to 2 classes.\n"
     ]
    }
   ],
   "source": [
    "train_generator = tf.keras.preprocessing.image.ImageDataGenerator(\n",
    "    horizontal_flip=True,\n",
    "    rotation_range=15,\n",
    "    zoom_range=0.1,\n",
    "    width_shift_range=0.1,\n",
    "    height_shift_range=0.1,\n",
    "    shear_range=0.1,\n",
    "    preprocessing_function=preprocess_input\n",
    ")\n",
    "\n",
    "eval_generator = tf.keras.preprocessing.image.ImageDataGenerator(\n",
    "    horizontal_flip=True,\n",
    "    zoom_range=0.1,\n",
    "    rotation_range=15,\n",
    "    width_shift_range=0.1,\n",
    "    height_shift_range=0.1,\n",
    "    shear_range=0.1,\n",
    "    preprocessing_function=preprocess_input\n",
    ")\n",
    "\n",
    "data_train_generator = train_generator.flow_from_directory(train_path, target_size=(224, 224),\n",
    "                                   class_mode='binary', batch_size=32)\n",
    "data_eval_generator = train_generator.flow_from_directory(eval_path, target_size=(224, 224),\n",
    "                                   class_mode='binary', batch_size=128)"
   ]
  },
  {
   "cell_type": "code",
   "execution_count": 14,
   "metadata": {
    "execution": {
     "iopub.execute_input": "2021-06-10T02:58:36.647728Z",
     "iopub.status.busy": "2021-06-10T02:58:36.647409Z",
     "iopub.status.idle": "2021-06-10T02:58:38.487106Z",
     "shell.execute_reply": "2021-06-10T02:58:38.486115Z",
     "shell.execute_reply.started": "2021-06-10T02:58:36.647696Z"
    }
   },
   "outputs": [
    {
     "name": "stderr",
     "output_type": "stream",
     "text": [
      "2021-08-21 21:03:04.950653: I tensorflow/compiler/jit/xla_cpu_device.cc:41] Not creating XLA devices, tf_xla_enable_xla_devices not set\n",
      "2021-08-21 21:03:04.952270: I tensorflow/stream_executor/platform/default/dso_loader.cc:49] Successfully opened dynamic library libcuda.so.1\n",
      "2021-08-21 21:03:05.655589: I tensorflow/stream_executor/cuda/cuda_gpu_executor.cc:941] successful NUMA node read from SysFS had negative value (-1), but there must be at least one NUMA node, so returning NUMA node zero\n",
      "2021-08-21 21:03:05.656242: I tensorflow/core/common_runtime/gpu/gpu_device.cc:1720] Found device 0 with properties: \n",
      "pciBusID: 0000:01:00.0 name: GeForce MX150 computeCapability: 6.1\n",
      "coreClock: 1.5315GHz coreCount: 3 deviceMemorySize: 1.96GiB deviceMemoryBandwidth: 44.76GiB/s\n",
      "2021-08-21 21:03:05.656568: W tensorflow/stream_executor/platform/default/dso_loader.cc:60] Could not load dynamic library 'libcudart.so.11.0'; dlerror: libcudart.so.11.0: cannot open shared object file: No such file or directory\n",
      "2021-08-21 21:03:05.656804: W tensorflow/stream_executor/platform/default/dso_loader.cc:60] Could not load dynamic library 'libcublas.so.11'; dlerror: libcublas.so.11: cannot open shared object file: No such file or directory\n",
      "2021-08-21 21:03:05.657076: W tensorflow/stream_executor/platform/default/dso_loader.cc:60] Could not load dynamic library 'libcublasLt.so.11'; dlerror: libcublasLt.so.11: cannot open shared object file: No such file or directory\n",
      "2021-08-21 21:03:05.657285: W tensorflow/stream_executor/platform/default/dso_loader.cc:60] Could not load dynamic library 'libcufft.so.10'; dlerror: libcufft.so.10: cannot open shared object file: No such file or directory\n",
      "2021-08-21 21:03:05.657480: W tensorflow/stream_executor/platform/default/dso_loader.cc:60] Could not load dynamic library 'libcurand.so.10'; dlerror: libcurand.so.10: cannot open shared object file: No such file or directory\n",
      "2021-08-21 21:03:05.657671: W tensorflow/stream_executor/platform/default/dso_loader.cc:60] Could not load dynamic library 'libcusolver.so.10'; dlerror: libcusolver.so.10: cannot open shared object file: No such file or directory\n",
      "2021-08-21 21:03:05.657864: W tensorflow/stream_executor/platform/default/dso_loader.cc:60] Could not load dynamic library 'libcusparse.so.11'; dlerror: libcusparse.so.11: cannot open shared object file: No such file or directory\n",
      "2021-08-21 21:03:05.658054: W tensorflow/stream_executor/platform/default/dso_loader.cc:60] Could not load dynamic library 'libcudnn.so.8'; dlerror: libcudnn.so.8: cannot open shared object file: No such file or directory\n",
      "2021-08-21 21:03:05.658081: W tensorflow/core/common_runtime/gpu/gpu_device.cc:1757] Cannot dlopen some GPU libraries. Please make sure the missing libraries mentioned above are installed properly if you would like to use GPU. Follow the guide at https://www.tensorflow.org/install/gpu for how to download and setup the required libraries for your platform.\n",
      "Skipping registering GPU devices...\n",
      "2021-08-21 21:03:05.659868: I tensorflow/compiler/jit/xla_gpu_device.cc:99] Not creating XLA devices, tf_xla_enable_xla_devices not set\n",
      "2021-08-21 21:03:05.659934: I tensorflow/core/common_runtime/gpu/gpu_device.cc:1261] Device interconnect StreamExecutor with strength 1 edge matrix:\n",
      "2021-08-21 21:03:05.659953: I tensorflow/core/common_runtime/gpu/gpu_device.cc:1267]      \n"
     ]
    },
    {
     "name": "stdout",
     "output_type": "stream",
     "text": [
      "Downloading data from https://storage.googleapis.com/tensorflow/keras-applications/mobilenet_v2/mobilenet_v2_weights_tf_dim_ordering_tf_kernels_1.0_224_no_top.h5\n",
      "9412608/9406464 [==============================] - 1s 0us/step\n"
     ]
    }
   ],
   "source": [
    "base_model = MobileNetV2(\n",
    "    input_shape=(224,224,3),\n",
    "    include_top=False,\n",
    "    weights='imagenet',\n",
    "    pooling='avg'\n",
    ")"
   ]
  },
  {
   "cell_type": "code",
   "execution_count": 15,
   "metadata": {
    "execution": {
     "iopub.execute_input": "2021-06-10T02:58:38.492352Z",
     "iopub.status.busy": "2021-06-10T02:58:38.492037Z",
     "iopub.status.idle": "2021-06-10T02:58:38.807743Z",
     "shell.execute_reply": "2021-06-10T02:58:38.805945Z",
     "shell.execute_reply.started": "2021-06-10T02:58:38.492309Z"
    }
   },
   "outputs": [
    {
     "name": "stdout",
     "output_type": "stream",
     "text": [
      "Model: \"sequential\"\n",
      "_________________________________________________________________\n",
      "Layer (type)                 Output Shape              Param #   \n",
      "=================================================================\n",
      "mobilenetv2_1.00_224 (Functi (None, 1280)              2257984   \n",
      "_________________________________________________________________\n",
      "dense (Dense)                (None, 1024)              1311744   \n",
      "_________________________________________________________________\n",
      "dropout (Dropout)            (None, 1024)              0         \n",
      "_________________________________________________________________\n",
      "dense_1 (Dense)              (None, 1)                 1025      \n",
      "=================================================================\n",
      "Total params: 3,570,753\n",
      "Trainable params: 1,312,769\n",
      "Non-trainable params: 2,257,984\n",
      "_________________________________________________________________\n"
     ]
    }
   ],
   "source": [
    "for layer in base_model.layers:\n",
    "    layer.trainable = False\n",
    "    \n",
    "model = tf.keras.models.Sequential()\n",
    "model.add(base_model)\n",
    "model.add(tf.keras.layers.Dense(1024, activation='relu'))\n",
    "model.add(tf.keras.layers.Dropout(.5))\n",
    "model.add(tf.keras.layers.Dense(1, activation='sigmoid'))\n",
    "model.summary()"
   ]
  },
  {
   "cell_type": "code",
   "execution_count": 16,
   "metadata": {
    "execution": {
     "iopub.execute_input": "2021-06-10T02:58:38.809889Z",
     "iopub.status.busy": "2021-06-10T02:58:38.809538Z"
    }
   },
   "outputs": [
    {
     "name": "stderr",
     "output_type": "stream",
     "text": [
      "2021-08-21 21:03:21.159906: I tensorflow/compiler/mlir/mlir_graph_optimization_pass.cc:116] None of the MLIR optimization passes are enabled (registered 2)\n",
      "2021-08-21 21:03:21.177062: I tensorflow/core/platform/profile_utils/cpu_utils.cc:112] CPU Frequency: 1999965000 Hz\n"
     ]
    },
    {
     "name": "stdout",
     "output_type": "stream",
     "text": [
      "Epoch 1/50\n"
     ]
    },
    {
     "name": "stderr",
     "output_type": "stream",
     "text": [
      "2021-08-21 21:03:23.599403: W tensorflow/core/framework/cpu_allocator_impl.cc:80] Allocation of 154140672 exceeds 10% of free system memory.\n",
      "2021-08-21 21:03:23.623015: W tensorflow/core/framework/cpu_allocator_impl.cc:80] Allocation of 156905472 exceeds 10% of free system memory.\n",
      "2021-08-21 21:03:23.696723: W tensorflow/core/framework/cpu_allocator_impl.cc:80] Allocation of 57802752 exceeds 10% of free system memory.\n",
      "2021-08-21 21:03:23.705888: W tensorflow/core/framework/cpu_allocator_impl.cc:80] Allocation of 57802752 exceeds 10% of free system memory.\n",
      "2021-08-21 21:03:23.734725: W tensorflow/core/framework/cpu_allocator_impl.cc:80] Allocation of 57802752 exceeds 10% of free system memory.\n"
     ]
    },
    {
     "name": "stdout",
     "output_type": "stream",
     "text": [
      "70/70 [==============================] - 82s 1s/step - loss: 1.5990 - accuracy: 0.5988 - val_loss: 0.7315 - val_accuracy: 0.5615\n",
      "Epoch 2/50\n",
      "70/70 [==============================] - 78s 1s/step - loss: 0.6017 - accuracy: 0.7013 - val_loss: 0.3220 - val_accuracy: 0.8736\n",
      "Epoch 3/50\n",
      "70/70 [==============================] - 78s 1s/step - loss: 0.5538 - accuracy: 0.7416 - val_loss: 0.3355 - val_accuracy: 0.8603\n",
      "Epoch 4/50\n",
      "70/70 [==============================] - 79s 1s/step - loss: 0.5193 - accuracy: 0.7550 - val_loss: 0.3187 - val_accuracy: 0.8636\n",
      "Epoch 5/50\n",
      "70/70 [==============================] - 77s 1s/step - loss: 0.5089 - accuracy: 0.7674 - val_loss: 0.3883 - val_accuracy: 0.8033\n",
      "Epoch 6/50\n",
      "70/70 [==============================] - 77s 1s/step - loss: 0.5327 - accuracy: 0.7573 - val_loss: 0.2940 - val_accuracy: 0.8803\n",
      "Epoch 7/50\n",
      "70/70 [==============================] - 77s 1s/step - loss: 0.4566 - accuracy: 0.7921 - val_loss: 0.2807 - val_accuracy: 0.8828\n",
      "Epoch 8/50\n",
      "70/70 [==============================] - 77s 1s/step - loss: 0.4601 - accuracy: 0.8007 - val_loss: 0.4445 - val_accuracy: 0.7715\n",
      "Epoch 9/50\n",
      "70/70 [==============================] - 77s 1s/step - loss: 0.4384 - accuracy: 0.7995 - val_loss: 0.3896 - val_accuracy: 0.7992\n",
      "Epoch 10/50\n",
      "70/70 [==============================] - 78s 1s/step - loss: 0.4337 - accuracy: 0.8004 - val_loss: 0.3639 - val_accuracy: 0.8234\n"
     ]
    }
   ],
   "source": [
    "from tensorflow.keras.callbacks import EarlyStopping\n",
    "\n",
    "es = EarlyStopping(\n",
    "    monitor=\"val_loss\",\n",
    "    patience=3\n",
    ")\n",
    "\n",
    "model.compile(optimizer='rmsprop',\n",
    "    loss='binary_crossentropy',\n",
    "    metrics=['accuracy'])\n",
    "\n",
    "history = model.fit(data_train_generator, epochs=50, validation_data=data_eval_generator, callbacks=[es])"
   ]
  },
  {
   "cell_type": "code",
   "execution_count": 17,
   "metadata": {
    "execution": {
     "iopub.status.idle": "2021-06-10T03:05:30.900714Z",
     "shell.execute_reply": "2021-06-10T03:05:30.899768Z",
     "shell.execute_reply.started": "2021-06-10T03:04:50.652497Z"
    }
   },
   "outputs": [
    {
     "name": "stdout",
     "output_type": "stream",
     "text": [
      "10/10 [==============================] - 31s 3s/step - loss: 0.3664 - accuracy: 0.8251\n"
     ]
    },
    {
     "data": {
      "text/plain": [
       "[0.36637774109840393, 0.8251045942306519]"
      ]
     },
     "execution_count": 17,
     "metadata": {},
     "output_type": "execute_result"
    }
   ],
   "source": [
    "model.evaluate(data_eval_generator)"
   ]
  },
  {
   "cell_type": "code",
   "execution_count": 18,
   "metadata": {
    "execution": {
     "iopub.execute_input": "2021-06-10T03:12:35.512369Z",
     "iopub.status.busy": "2021-06-10T03:12:35.512015Z",
     "iopub.status.idle": "2021-06-10T03:13:12.720021Z",
     "shell.execute_reply": "2021-06-10T03:13:12.719153Z",
     "shell.execute_reply.started": "2021-06-10T03:12:35.512337Z"
    }
   },
   "outputs": [
    {
     "name": "stdout",
     "output_type": "stream",
     "text": [
      "70/70 [==============================] - 47s 674ms/step - loss: 0.3602 - accuracy: 0.8381\n"
     ]
    },
    {
     "data": {
      "text/plain": [
       "[0.36020833253860474, 0.8380694389343262]"
      ]
     },
     "execution_count": 18,
     "metadata": {},
     "output_type": "execute_result"
    }
   ],
   "source": [
    "model.evaluate(data_train_generator)"
   ]
  },
  {
   "cell_type": "code",
   "execution_count": 19,
   "metadata": {
    "execution": {
     "iopub.execute_input": "2021-06-10T03:05:30.902901Z",
     "iopub.status.busy": "2021-06-10T03:05:30.90258Z",
     "iopub.status.idle": "2021-06-10T03:05:31.19312Z",
     "shell.execute_reply": "2021-06-10T03:05:31.192289Z",
     "shell.execute_reply.started": "2021-06-10T03:05:30.902847Z"
    }
   },
   "outputs": [
    {
     "data": {
      "image/png": "[encoded data removed]",
      "text/plain": [
       "<Figure size 432x288 with 1 Axes>"
      ]
     },
     "metadata": {
      "needs_background": "light"
     },
     "output_type": "display_data"
    },
    {
     "data": {
      "image/png": "[encoded data removed]",
      "text/plain": [
       "<Figure size 432x288 with 1 Axes>"
      ]
     },
     "metadata": {
      "needs_background": "light"
     },
     "output_type": "display_data"
    },
    {
     "data": {
      "text/plain": [
       "<Figure size 432x288 with 0 Axes>"
      ]
     },
     "metadata": {},
     "output_type": "display_data"
    }
   ],
   "source": [
    "import matplotlib.pylab as plt\n",
    "plt.title('Loss')\n",
    "plt.plot(history.history['loss'], label='loss')\n",
    "plt.plot(history.history['val_loss'], label='val_loss')\n",
    "plt.legend()\n",
    "plt.xlabel('Epochs')\n",
    "plt.show()\n",
    "plt.clf()\n",
    "\n",
    "plt.title('Accuracy')\n",
    "plt.plot(history.history['accuracy'], label='accuracy')\n",
    "plt.plot(history.history['val_accuracy'], label='val_accuracy')\n",
    "plt.legend()\n",
    "plt.xlabel('Epochs')\n",
    "plt.show()\n",
    "plt.clf()"
   ]
  },
  {
   "cell_type": "code",
   "execution_count": 20,
   "metadata": {},
   "outputs": [],
   "source": [
    "model.save('classification_model.h5')"
   ]
  },
  {
   "cell_type": "code",
   "execution_count": null,
   "metadata": {},
   "outputs": [],
   "source": []
  }
 ],
 "metadata": {
  "kernelspec": {
   "display_name": "Python 3 (ipykernel)",
   "language": "python",
   "name": "python3"
  },
  "language_info": {
   "codemirror_mode": {
    "name": "ipython",
    "version": 3
   },
   "file_extension": ".py",
   "mimetype": "text/x-python",
   "name": "python",
   "nbconvert_exporter": "python",
   "pygments_lexer": "ipython3",
   "version": "3.8.10"
  }
 },
 "nbformat": 4,
 "nbformat_minor": 4
}
